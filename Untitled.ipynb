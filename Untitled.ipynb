{
 "cells": [
  {
   "cell_type": "code",
   "execution_count": 1,
   "id": "6fe4ea36-1036-4bf5-b51b-9ce81234441f",
   "metadata": {},
   "outputs": [],
   "source": [
    "m4a_file = 'C:\\\\ab.mishra\\\\projects\\\\pico_audio_pwm\\\\pico-pwm-audio\\\\switch_off.m4a'"
   ]
  },
  {
   "cell_type": "code",
   "execution_count": 2,
   "id": "4baaf11e-6802-459d-bef3-4d04136bb834",
   "metadata": {},
   "outputs": [],
   "source": [
    "wav_filename = r\"switch_off.wav\""
   ]
  },
  {
   "cell_type": "code",
   "execution_count": 3,
   "id": "a2cf0122-c761-4c7b-a7f7-2d196ab52566",
   "metadata": {},
   "outputs": [],
   "source": [
    "from pydub import AudioSegment"
   ]
  },
  {
   "cell_type": "code",
   "execution_count": 4,
   "id": "45eb771e-8eae-44c2-b61c-9791dfac5cb9",
   "metadata": {},
   "outputs": [],
   "source": [
    "track = AudioSegment.from_file(m4a_file,  format= 'm4a')"
   ]
  },
  {
   "cell_type": "code",
   "execution_count": 5,
   "id": "4090d350-39a9-486e-9fe7-a111d3dca7e9",
   "metadata": {},
   "outputs": [],
   "source": [
    "file_handle = track.export(wav_filename, format='wav')"
   ]
  },
  {
   "cell_type": "code",
   "execution_count": null,
   "id": "cb504d27-03b7-4dfb-b12d-f488cd7a9026",
   "metadata": {},
   "outputs": [],
   "source": []
  }
 ],
 "metadata": {
  "kernelspec": {
   "display_name": "Python 3 (ipykernel)",
   "language": "python",
   "name": "python3"
  },
  "language_info": {
   "codemirror_mode": {
    "name": "ipython",
    "version": 3
   },
   "file_extension": ".py",
   "mimetype": "text/x-python",
   "name": "python",
   "nbconvert_exporter": "python",
   "pygments_lexer": "ipython3",
   "version": "3.11.0"
  }
 },
 "nbformat": 4,
 "nbformat_minor": 5
}
